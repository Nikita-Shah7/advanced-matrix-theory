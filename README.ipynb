{
 "cells": [
  {
   "cell_type": "markdown",
   "id": "855c7bb9",
   "metadata": {},
   "source": [
    "## **Analysis of Unique Solutions in Binary Linear Systems with Structured Matrices**"
   ]
  },
  {
   "cell_type": "markdown",
   "id": "d7b45e43",
   "metadata": {},
   "source": [
    "$ \\text{For }n \\in N,\\text{ } T \\in M_n(R) \\text{ is a variable matrix.} $"
   ]
  },
  {
   "cell_type": "markdown",
   "id": "f372ba9c",
   "metadata": {},
   "source": [
    "$ T = \\begin{bmatrix}\n",
    "t1 & t2 & \\dots & tn\n",
    "\\\\ t(n+1) & t(n+2) & \\dots & t2n \n",
    "\\\\ . & . & \\dots & . \n",
    "\\\\ . & . &  & . \n",
    "\\\\ . & . & \\dots & . \n",
    "\\\\ . & . & \\dots & tnn \n",
    "\\end{bmatrix}$"
   ]
  },
  {
   "cell_type": "markdown",
   "id": "bab32ca6",
   "metadata": {},
   "source": [
    "$ \\text{No. of variables in T} = n^2 $\n",
    "\n",
    "$ y \\in \\{ \\begin{bmatrix}y_1, y_2, \\dots y_{n-1}, 1\\end{bmatrix} : y_i \\in \\{-1, 1\\} \\} $\n",
    "\n",
    "$ x \\in \\{ \\begin{bmatrix}x_1, x_2, \\dots x_n\\end{bmatrix}^T : x_i \\in \\{-1, 1\\} \\} $\n",
    "\n",
    "$ b =\\begin{bmatrix}1, 1, 1, \\dots , (\\text{n times})\\end{bmatrix}^T $\n",
    "\n",
    "$t = \\begin{bmatrix}\n",
    "t1\n",
    "\\\\ t2\n",
    "\\\\ .\n",
    "\\\\ .\n",
    "\\\\ .\n",
    "\\\\ tnn\n",
    "\\end{bmatrix}$\n",
    "\n",
    "$$\n",
    "yTx = 1, \\quad \\forall x, \\forall y \\tag{1}\n",
    "$$\n",
    "\n",
    "\n",
    "$ \\text{No. of equations satisfying (1)} = 2^{2n-1} . $\n",
    "\n",
    "$ \\text{Choose } n^2  \\text{ equations from above equations.} $\n",
    "\n",
    "$ \\text{No. of linear systems of equations} = \\binom{2^{2n-1}}{n^2} . $\n",
    "\n",
    "$ \\text{Consider } $\n",
    "$$ At = b.  \\tag{2}$$\n",
    "\n",
    "$ \\text{A is the coefficient matrix of the chosen } n^2 \\text{ equations.} $\n",
    "\n",
    "\n",
    "\n",
    "$ \\large{\\text{1. Find out the number systems with unique solutions. i.e. Find how many A's are there such that } A^{-1} \\text{  exists.}} $\n",
    "$ \\large{\\text{2. Find the unique solutions. i.e. Find all such corresponding T.}} $"
   ]
  },
  {
   "cell_type": "markdown",
   "id": "83e48642",
   "metadata": {},
   "source": [
    "## **Example**"
   ]
  },
  {
   "cell_type": "markdown",
   "id": "b659b95d",
   "metadata": {},
   "source": [
    "$ \\text{For } n = 2, $\n",
    "$ \\text{no. of variables (m) = 4} $\n",
    "\n",
    "$T = \\begin{bmatrix}\n",
    "t1 & t2\n",
    "\\\\ t3 & t4\n",
    "\\end{bmatrix}$\n",
    "\n",
    "$t = \\begin{bmatrix}\n",
    "t1\n",
    "\\\\ t2\n",
    "\\\\ t3 \n",
    "\\\\ t4\n",
    "\\end{bmatrix}$\n",
    "\n",
    "\n",
    "$ x \\in \\left\\{ [-1, -1]^T, [-1, 1]^T, [1, -1]^T, [1, 1]^T \\right\\} $\n",
    "\n",
    "$ y \\in \\left\\{ [-1, 1], [1, 1] \\right\\} $\n",
    "\n",
    "$ yTx = 1, \\forall x, \\forall y $\n",
    "\n",
    "$ \\text{We get } 2^3 = 8 \\text{ distinct equations in 4 variables.} $\n",
    "\n",
    "$ \\text{No. of linear systems} = \\binom{8}{4} = 70. $\n",
    "\n",
    "$ \\text{No. of linear systems with unique solution = 16 (after calculations).} $"
   ]
  }
 ],
 "metadata": {
  "language_info": {
   "name": "python"
  }
 },
 "nbformat": 4,
 "nbformat_minor": 5
}
